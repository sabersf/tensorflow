{
 "cells": [
  {
   "cell_type": "code",
   "execution_count": null,
   "metadata": {
    "collapsed": true
   },
   "outputs": [],
   "source": [
    "from __future__ import absolute_import\n",
    "from __future__ import division\n",
    "from __future__ import print_function\n",
    "\n",
    "import time\n",
    "import collections\n",
    "from tensorflow.models.rnn import rnn\n",
    "import numpy as np\n",
    "import tensorflow as tf\n",
    "import os\n",
    "from tensorflow.models.rnn.ptb import reader\n",
    "\n",
    "flags = tf.flags\n",
    "logging = tf.logging\n",
    "\n",
    "#Configurations\n",
    "\n",
    "init_scale = 0.1\n",
    "learning_rate = 1.0\n",
    "max_grad_norm = 5\n",
    "num_layers = 2\n",
    "num_steps = 20\n",
    "hidden_size = 200\n",
    "max_epoch = 4\n",
    "max_max_epoch = 13\n",
    "keep_prob = 1.0\n",
    "lr_decay = 0.5\n",
    "batch_size = 20\n",
    "vocab_size = 10000\n"
   ]
  },
  {
   "cell_type": "code",
   "execution_count": null,
   "metadata": {
    "collapsed": true
   },
   "outputs": [],
   "source": [
    "class PTBModel(object):\n",
    "    \"\"\"The PTB model.\"\"\"\n",
    "\n",
    "    def __init__(self, is_training):\n",
    "        size = hidden_size\n",
    "\n",
    "        self._input_data = tf.placeholder(tf.int32, [batch_size, num_steps])\n",
    "        self._targets = tf.placeholder(tf.int32, [batch_size, num_steps])\n",
    "\n",
    "        # Slightly better results can be obtained with forget gate biases\n",
    "        # initialized to 1 but the hyperparameters of the model would need to be\n",
    "        # different than reported in the paper.\n",
    "        lstm_cell = tf.nn.rnn_cell.BasicLSTMCell(size, forget_bias=0.0)\n",
    "        if is_training and keep_prob < 1:\n",
    "            lstm_cell = tf.nn.rnn_cell.DropoutWrapper(lstm_cell, output_keep_prob=keep_prob)\n",
    "        cell = tf.nn.rnn_cell.MultiRNNCell([lstm_cell] * num_layers)\n",
    "\n",
    "        self._initial_state = cell.zero_state(batch_size, tf.float32)\n",
    "\n",
    "        with tf.device(\"/cpu:0\"):\n",
    "            embedding = tf.get_variable(\"embedding\", [vocab_size, size])\n",
    "            inputs = tf.nn.embedding_lookup(embedding, self._input_data)\n",
    "\n",
    "        if is_training and keep_prob < 1:\n",
    "            inputs = tf.nn.dropout(inputs, keep_prob)\n",
    "\n",
    "        # Simplified version of tensorflow.models.rnn.rnn.py's rnn().\n",
    "        # This builds an unrolled LSTM for tutorial purposes only.\n",
    "        # In general, use the rnn() or state_saving_rnn() from rnn.py.\n",
    "        #\n",
    "        # The alternative version of the code below is:\n",
    "        #\n",
    "        # from tensorflow.models.rnn import rnn\n",
    "        # inputs = [tf.squeeze(input_, [1])\n",
    "        #           for input_ in tf.split(1, num_steps, inputs)]\n",
    "        # outputs, state = rnn.rnn(cell, inputs, initial_state=self._initial_state)\n",
    "        outputs = []\n",
    "        state = self._initial_state\n",
    "        with tf.variable_scope(\"RNN\"):\n",
    "            for time_step in range(num_steps):\n",
    "                if time_step > 0: tf.get_variable_scope().reuse_variables()\n",
    "                (cell_output, state) = cell(inputs[:, time_step, :], state)\n",
    "                outputs.append(cell_output)\n",
    "\n",
    "        output = tf.reshape(tf.concat(1, outputs), [-1, size])\n",
    "        softmax_w = tf.get_variable(\"softmax_w\", [size, vocab_size])\n",
    "        softmax_b = tf.get_variable(\"softmax_b\", [vocab_size])\n",
    "        logits = tf.matmul(output, softmax_w) + softmax_b\n",
    "        \n",
    "        \n",
    "        \n",
    "        loss = tf.nn.seq2seq.sequence_loss_by_example( [logits],\n",
    "            [tf.reshape(self._targets, [-1])], [tf.ones([batch_size * num_steps])])\n",
    "        self._cost = cost = tf.reduce_sum(loss) / batch_size\n",
    "        self._final_state = state\n",
    "\n",
    "        #Storing the probabilities and logits\n",
    "        self.probabilities = probabilities =  tf.nn.softmax(logits)\n",
    "        self.logits = logits\n",
    "\n",
    "        if not is_training:\n",
    "            return\n",
    "\n",
    "        self._lr = tf.Variable(0.0, trainable=False)\n",
    "        tvars = tf.trainable_variables()\n",
    "        grads, _ = tf.clip_by_global_norm(tf.gradients(cost, tvars),\n",
    "                                          max_grad_norm)\n",
    "        optimizer = tf.train.GradientDescentOptimizer(self.lr)\n",
    "        self._train_op = optimizer.apply_gradients(zip(grads, tvars))\n",
    "\n",
    "    def assign_lr(self, session, lr_value):\n",
    "        session.run(tf.assign(self.lr, lr_value))\n",
    "\n",
    "    @property\n",
    "    def input_data(self):\n",
    "        return self._input_data\n",
    "\n",
    "    @property\n",
    "    def targets(self):\n",
    "        return self._targets\n",
    "\n",
    "    @property\n",
    "    def initial_state(self):\n",
    "        return self._initial_state\n",
    "\n",
    "    @property\n",
    "    def cost(self):\n",
    "        return self._cost\n",
    "\n",
    "    @property\n",
    "    def final_state(self):\n",
    "        return self._final_state\n",
    "\n",
    "    @property\n",
    "    def lr(self):\n",
    "        return self._lr\n",
    "\n",
    "    @property\n",
    "    def train_op(self):\n",
    "        return self._train_op\n"
   ]
  },
  {
   "cell_type": "code",
   "execution_count": null,
   "metadata": {
    "collapsed": true
   },
   "outputs": [],
   "source": [
    "def run_epoch(session, m, data, eval_op, verbose=True):\n",
    "    \"\"\"Runs the model on the given data.\"\"\"\n",
    "    epoch_size = ((len(data) // batch_size) - 1) // num_steps\n",
    "    start_time = time.time()\n",
    "    costs = 0.0\n",
    "    iters = 0\n",
    "    state = m.initial_state.eval()\n",
    "    for step, (x, y) in enumerate(reader.ptb_iterator(data,batch_size, num_steps)):\n",
    "        cost, state,probs, logits, _ = session.run([m.cost, m.final_state, m.probabilities, m.logits, eval_op],\n",
    "                                 {m.input_data: x,\n",
    "                                  m.targets: y,\n",
    "                                  m.initial_state: state})\n",
    "        costs += cost\n",
    "        iters += num_steps\n",
    "\n",
    "        if verbose and step % (epoch_size // 10) == 10:\n",
    "            print(\"%.3f perplexity: %.3f speed: %.0f wps\" %(step * 1.0 / epoch_size, np.exp(costs / iters),\n",
    "                     iters * batch_size / (time.time() - start_time)))\n",
    "            chosen_word = np.argmax(probs, 1)\n",
    "            print(\"Probabilities shape: %s, Logits shape: %s\" %  (probs.shape, logits.shape) )\n",
    "            print(words[chosen_word[- 1]])\n",
    "            #tmp_str = ''\n",
    "            #for i in range(400):\n",
    "            #    tmp_str +=  str(i) + ' : ' + words[chosen_word[i]] + ' , '\n",
    "            #print(tmp_str)\n",
    "\n",
    "            print(\"Batch size: %s, Num steps: %s\" % (batch_size, num_steps))\n",
    "\n",
    "    return np.exp(costs / iters)"
   ]
  },
  {
   "cell_type": "code",
   "execution_count": null,
   "metadata": {
    "collapsed": false
   },
   "outputs": [],
   "source": [
    "def _read_words(filename):\n",
    "    with tf.gfile.GFile(filename, \"r\") as f:\n",
    "        return f.read().replace(\"\\n\", \"<eos>\").split()\n",
    "\n",
    "data_path = 'simple-examples/data1/'\n",
    "\n",
    "train_path = os.path.join(data_path, \"ptb.train.txt\")\n",
    "data = _read_words(train_path)\n",
    "\n",
    "counter = collections.Counter(data)\n",
    "count_pairs = sorted(counter.items(), key=lambda x: (-x[1], x[0]))\n",
    "\n",
    "words, _ = list(zip(*count_pairs))\n",
    "\n",
    "\n",
    "raw_data = reader.ptb_raw_data(data_path)\n",
    "train_data, valid_data, test_data, vocab = raw_data\n",
    "\n",
    "print(vocab)\n",
    "\n"
   ]
  },
  {
   "cell_type": "code",
   "execution_count": null,
   "metadata": {
    "collapsed": false
   },
   "outputs": [],
   "source": [
    "for i in range(10):\n",
    "    print(words[test_data[i]])"
   ]
  },
  {
   "cell_type": "code",
   "execution_count": null,
   "metadata": {
    "collapsed": false
   },
   "outputs": [],
   "source": [
    "try:\n",
    "    with tf.Graph().as_default(), tf.Session() as session:\n",
    "        initializer = tf.random_uniform_initializer(-init_scale, init_scale)\n",
    "        with tf.variable_scope(\"model\", reuse=None, initializer=initializer):\n",
    "            m = PTBModel(is_training=True)\n",
    "        with tf.variable_scope(\"model\", reuse=True, initializer=initializer):\n",
    "            mvalid = PTBModel(is_training=False)\n",
    "            mtest = PTBModel(is_training=False)\n",
    "\n",
    "        tf.initialize_all_variables().run()\n",
    "        #max_max_epoch\n",
    "        for i in range(1):\n",
    "            lr_decay = lr_decay ** max(i - max_epoch, 0.0)\n",
    "            m.assign_lr(session, learning_rate * lr_decay)\n",
    "\n",
    "            print(\"Epoch: %d Learning rate: %.3f\" % (i + 1, session.run(m.lr)))\n",
    "            train_perplexity = run_epoch(session, m, train_data, m.train_op,\n",
    "                                       verbose=True)\n",
    "            print(\"Epoch: %d Train Perplexity: %.3f\" % (i + 1, train_perplexity))\n",
    "            valid_perplexity = run_epoch(session, mvalid, valid_data, tf.no_op())\n",
    "            print(\"Epoch: %d Valid Perplexity: %.3f\" % (i + 1, valid_perplexity))\n",
    "\n",
    "        test_perplexity = run_epoch(session, mtest, test_data, tf.no_op())\n",
    "        print(\"Test Perplexity: %.3f\" % test_perplexity)\n",
    "except KeyboardInterrupt:\n",
    "    print(\"Keyboard pressed\")"
   ]
  },
  {
   "cell_type": "code",
   "execution_count": null,
   "metadata": {
    "collapsed": true
   },
   "outputs": [],
   "source": []
  },
  {
   "cell_type": "code",
   "execution_count": null,
   "metadata": {
    "collapsed": true
   },
   "outputs": [],
   "source": []
  },
  {
   "cell_type": "code",
   "execution_count": null,
   "metadata": {
    "collapsed": true
   },
   "outputs": [],
   "source": []
  },
  {
   "cell_type": "code",
   "execution_count": null,
   "metadata": {
    "collapsed": true
   },
   "outputs": [],
   "source": []
  }
 ],
 "metadata": {
  "kernelspec": {
   "display_name": "Python 2",
   "language": "python",
   "name": "python2"
  },
  "language_info": {
   "codemirror_mode": {
    "name": "ipython",
    "version": 2
   },
   "file_extension": ".py",
   "mimetype": "text/x-python",
   "name": "python",
   "nbconvert_exporter": "python",
   "pygments_lexer": "ipython2",
   "version": "2.7.11"
  }
 },
 "nbformat": 4,
 "nbformat_minor": 0
}
